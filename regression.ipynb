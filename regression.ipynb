{
 "cells": [
  {
   "cell_type": "markdown",
   "id": "572ed148-fc7e-4849-9561-a93f800a297c",
   "metadata": {},
   "source": [
    "Q1. Explain the difference between simple linear regression and multiple linear regression. Provide an\n",
    "example of each."
   ]
  },
  {
   "cell_type": "markdown",
   "id": "246e69f7-688e-4158-b776-6e118d747eb3",
   "metadata": {},
   "source": [
    "In simple linear regression , We can select best fit line such a way that difference between actual data point and predicted datapoint and sum of all difference value has to minimum."
   ]
  },
  {
   "cell_type": "markdown",
   "id": "979f7e00-069a-47c2-8d48-963c19a3cb9e",
   "metadata": {},
   "source": [
    "There is only one input (independent) feature and one output(dependent) feature."
   ]
  },
  {
   "cell_type": "markdown",
   "id": "50ed81d7-aed0-4034-895b-8741479582af",
   "metadata": {},
   "source": [
    "In multiple linear regression , There is more than one input feature(independent) and one output(dependent) feature."
   ]
  },
  {
   "cell_type": "markdown",
   "id": "0a89d3f9-0035-4ffc-8359-f0160aedbc8c",
   "metadata": {},
   "source": [
    "Example of simple linear regression : dataset of height and weight. One independent feature and one dependent feature."
   ]
  },
  {
   "cell_type": "markdown",
   "id": "3c7cddc3-3a42-4369-a604-d615128387dd",
   "metadata": {},
   "source": [
    "Example of multiple linear regression: dataset of house , No.of Rooms,  Size of rooms ,Price . Two input feature and one output feature."
   ]
  },
  {
   "cell_type": "markdown",
   "id": "8d0f52b0-bf06-4255-b366-b0ad066d3bd1",
   "metadata": {},
   "source": [
    "Q2. Discuss the assumptions of linear regression. How can you check whether these assumptions hold in\n",
    "a given dataset?"
   ]
  },
  {
   "cell_type": "markdown",
   "id": "2fa57ab5-455d-4281-9b80-23ff119d4501",
   "metadata": {},
   "source": [
    "There is a linear relationship between the predictors (x) and the outcome (y)\n",
    "Predictors (x) are independent and observed with negligible error.\n",
    "Residual Errors have a mean value of zero.\n",
    "Residual Errors have constant variance.\n",
    "Residual Errors are independent from each other and predictors (x)"
   ]
  },
  {
   "cell_type": "markdown",
   "id": "e9367f11-994a-49ba-bc53-cede62533111",
   "metadata": {},
   "source": [
    "Q3. How do you interpret the slope and intercept in a linear regression model? Provide an example using\n",
    "a real-world scenario."
   ]
  },
  {
   "cell_type": "markdown",
   "id": "69a24d88-11e1-427d-9fa4-5ece0adae9a6",
   "metadata": {},
   "source": [
    "Slope (m): The slope represents the change in the dependent variable for a one-unit change in the independent variable while holding all other variables constant. It indicates the rate of change in the dependent variable concerning the independent variable. For instance, if the slope is 2, it means that for every one-unit increase in the independent variable, the dependent variable is expected to increase by 2 units."
   ]
  },
  {
   "cell_type": "markdown",
   "id": "c12953df-5a81-4f0a-9ad4-b29e2cada16d",
   "metadata": {},
   "source": [
    "Intercept (c): The intercept is the value of the dependent variable when the independent variable is zero. It's the point where the regression line crosses the y-axis. It may or may not have a meaningful interpretation depending on the context. For example, in some cases, it might not make sense for the independent variable to reach zero, making the intercept more of a theoretical value."
   ]
  },
  {
   "cell_type": "markdown",
   "id": "2b64daea-26ce-4e8a-9f2c-804689581b96",
   "metadata": {},
   "source": [
    "Let's consider a real-world scenario of predicting house prices based on their sizes. Suppose you have a dataset of houses where the size of the house (in square feet) is the independent variable(x) and the price of the house (in dollars) is the dependent variable (y)"
   ]
  },
  {
   "cell_type": "markdown",
   "id": "84d100b2-6cf0-4dcf-92da-442e32a0a229",
   "metadata": {},
   "source": [
    "If you perform linear regression and get an equation like y = 100x + 50,000 "
   ]
  },
  {
   "cell_type": "markdown",
   "id": "242b90a4-32dd-4076-9fea-36599dabeda3",
   "metadata": {},
   "source": [
    "Slope (100): For every one-unit increase in the size of the house (in square feet), the price of the house is expected to increase by $100, assuming all other factors remain constant. So, a house that is one square foot larger is estimated to sell for $100 more, all else being equal."
   ]
  },
  {
   "cell_type": "markdown",
   "id": "36d60727-e27f-43b8-8b53-c7002f7f3c2e",
   "metadata": {},
   "source": [
    "Intercept ($50,000): In this context, it might represent the baseline price of a house. However, having a house size of zero square feet is not practically possible, so the intercept might not hold much meaning in this scenario. It's more of a theoretical value indicating the starting point of the price, and its interpretation might not be directly applicable to real-world houses."
   ]
  },
  {
   "cell_type": "markdown",
   "id": "51ae3925-ca77-46ca-a1ff-36c364465f71",
   "metadata": {},
   "source": [
    "Interpreting the slope and intercept in a linear regression model involves understanding how the dependent variable changes concerning the independent variable and the baseline value of the dependent variable when the independent variable is at zero."
   ]
  },
  {
   "cell_type": "markdown",
   "id": "360a4055-2906-422c-a470-a664cfce9c14",
   "metadata": {},
   "source": [
    "Q4. Explain the concept of gradient descent. How is it used in machine learning?"
   ]
  },
  {
   "cell_type": "markdown",
   "id": "82fc9d48-b4c6-4b2e-8fda-8627fb6ac678",
   "metadata": {},
   "source": [
    "Gradient Descent is known as one of the most commonly used optimization algorithms to train machine learning models by means of minimizing errors between actual and expected results. Further, gradient descent is also used to train Neural Networks."
   ]
  },
  {
   "cell_type": "markdown",
   "id": "d54e3c13-c870-4227-8e04-25f339105b27",
   "metadata": {},
   "source": [
    "If we move towards a negative gradient or away from the gradient of the function at the current point, it will give the local minimum of that function.\n",
    "Whenever we move towards a positive gradient or towards the gradient of the function at the current point, we will get the local maximum of that function."
   ]
  },
  {
   "cell_type": "markdown",
   "id": "c9d17e38-cfe2-4dde-9486-720dd57d182e",
   "metadata": {},
   "source": [
    "Q5. Describe the multiple linear regression model. How does it differ from simple linear regression?"
   ]
  },
  {
   "cell_type": "markdown",
   "id": "b7f77a03-58e3-4d07-997e-f0721f79338d",
   "metadata": {},
   "source": [
    "Multiple regression is a broader class of regressions that encompasses linear and nonlinear regressions with multiple explanatory variables. Whereas linear regress only has one independent variable impacting the slope of the relationship, multiple regression incorporates multiple independent variables."
   ]
  },
  {
   "cell_type": "markdown",
   "id": "7ede78f4-e6d1-4808-b04e-11147b73b245",
   "metadata": {},
   "source": [
    "Q6. Explain the concept of multicollinearity in multiple linear regression. How can you detect and\n",
    "address this issue?"
   ]
  },
  {
   "cell_type": "markdown",
   "id": "f432413d-ee48-413f-8c55-e415943e201e",
   "metadata": {},
   "source": [
    "Multicollinearity happens when independent variables in the regression model are highly correlated to each other. It makes it hard to interpret of model and also creates an overfitting problem. It is a common assumption that people test before selecting the variables into the regression model."
   ]
  },
  {
   "cell_type": "markdown",
   "id": "ea23315d-9bd7-43be-8b44-d3f1d619b587",
   "metadata": {},
   "source": [
    "USE OF R2 AND T-STATISTIC\n",
    "\n",
    "It is also a useful tool for detection of multicollinearity. If the value of R2 is high (more than 0.8) and a very few regression parameters comes out to be significant (using t- test for individual regression parameters) then multicollinearity is said to be present."
   ]
  },
  {
   "cell_type": "markdown",
   "id": "ed6e8b8f-3926-48ec-9ad5-ce65693e6289",
   "metadata": {},
   "source": [
    "Q7. Describe the polynomial regression model. How is it different from linear regression?"
   ]
  },
  {
   "cell_type": "markdown",
   "id": "7e3f0925-1618-4bf1-b2c6-5d88429b540c",
   "metadata": {},
   "source": [
    "A polynomial regression model is a machine learning model that can capture non-linear relationships between variables by fitting a non-linear regression line, which may not be possible with simple linear regression. It is used when linear regression models may not adequately capture the complexity of the relationship."
   ]
  },
  {
   "cell_type": "markdown",
   "id": "9c814c5e-3aad-4539-8fd0-591c2cc10e1a",
   "metadata": {},
   "source": [
    "Q8. What are the advantages and disadvantages of polynomial regression compared to linear\n",
    "regression? In what situations would you prefer to use polynomial regression?"
   ]
  },
  {
   "cell_type": "markdown",
   "id": "9271ff3f-937d-44c6-8f52-d294afac3207",
   "metadata": {},
   "source": [
    "1) Polynomial regression is independent of the size of the data set. 2) Non-linear problems are solved with good accuracy. 3) It gives the best approximation of the correspondence between the output and explanatory (independent) variables. 4) A large number of functions can be fit under it."
   ]
  },
  {
   "cell_type": "markdown",
   "id": "2e8c5bed-d535-4d3a-8c2b-508694fecb35",
   "metadata": {},
   "source": [
    "Polynomial regression offers several advantages over linear regression: Non-linear relationships: Polynomial regression can capture non-linear relationships between variables, unlike linear regression, which assumes a linear relationship. This flexibility is helpful when the underlying relationship is curvilinear."
   ]
  },
  {
   "cell_type": "code",
   "execution_count": null,
   "id": "b9418a76-c1f6-430e-b6fb-ebeae569cba4",
   "metadata": {},
   "outputs": [],
   "source": []
  }
 ],
 "metadata": {
  "kernelspec": {
   "display_name": "Python 3 (ipykernel)",
   "language": "python",
   "name": "python3"
  },
  "language_info": {
   "codemirror_mode": {
    "name": "ipython",
    "version": 3
   },
   "file_extension": ".py",
   "mimetype": "text/x-python",
   "name": "python",
   "nbconvert_exporter": "python",
   "pygments_lexer": "ipython3",
   "version": "3.10.8"
  }
 },
 "nbformat": 4,
 "nbformat_minor": 5
}
